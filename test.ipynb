{
 "cells": [
  {
   "cell_type": "markdown",
   "id": "37a1a1d2-b200-4d9c-ac97-eb824e2d9b24",
   "metadata": {},
   "source": [
    "Fourier $f(x) = 3$$"
   ]
  },
  {
   "cell_type": "code",
   "execution_count": null,
   "id": "9aa69289-dca4-4e94-8fba-0659188b56d5",
   "metadata": {},
   "outputs": [],
   "source": []
  }
 ],
 "metadata": {
  "kernelspec": {
   "display_name": "Python 3 (ipykernel)",
   "language": "python",
   "name": "python3"
  },
  "language_info": {
   "codemirror_mode": {
    "name": "ipython",
    "version": 3
   },
   "file_extension": ".py",
   "mimetype": "text/x-python",
   "name": "python",
   "nbconvert_exporter": "python",
   "pygments_lexer": "ipython3",
   "version": "3.9.6"
  }
 },
 "nbformat": 4,
 "nbformat_minor": 5
}
